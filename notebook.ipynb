{
 "cells": [
  {
   "cell_type": "code",
   "execution_count": 39,
   "metadata": {
    "collapsed": true
   },
   "outputs": [],
   "source": [
    "from Types import *"
   ]
  },
  {
   "cell_type": "code",
   "execution_count": 40,
   "outputs": [],
   "source": [
    "def Weaknesses(type_1, type_2 = None):\n",
    "    weak = []\n",
    "    for i in type_1.WEAK:\n",
    "        weak.append(i)\n",
    "    if type_2 is not None:\n",
    "        if type_2.NAME is not type_1.NAME:\n",
    "            for i in type_1.WEAK:\n",
    "                if i in type_2.RESIST or i in type_2.IMMUNE:\n",
    "                    weak.remove(i)\n",
    "            for j in type_2.WEAK:\n",
    "                if j in type_1.RESIST or j in type_1.IMMUNE:\n",
    "                    pass\n",
    "                else:\n",
    "                    weak.append(j)\n",
    "    return weak\n",
    "\n",
    "def Resistances(type_1, type_2 = None):\n",
    "    resist = []\n",
    "    immune = []\n",
    "    for i in type_1.RESIST:\n",
    "        resist.append(i)\n",
    "    for i in type_1.IMMUNE:\n",
    "        immune.append(i)\n",
    "    if type_2 is not None:\n",
    "        if type_2.NAME is not type_1.NAME:\n",
    "            for i in type_1.RESIST:\n",
    "                if i in type_2.WEAK:\n",
    "                    resist.remove(i)\n",
    "            for j in type_2.RESIST:\n",
    "                if j in type_1.WEAK:\n",
    "                    pass\n",
    "                else:\n",
    "                    resist.append(j)\n",
    "            for k in type_2.IMMUNE:\n",
    "                immune.append(k)\n",
    "    return resist, immune\n",
    "\n"
   ],
   "metadata": {
    "collapsed": false,
    "pycharm": {
     "name": "#%%\n"
    }
   }
  },
  {
   "cell_type": "code",
   "execution_count": 62,
   "outputs": [],
   "source": [
    "input_type1 = input('Enter first type: ')\n",
    "input_type2 = input('Enter second type: ')\n",
    "type1 = type[input_type1]\n",
    "type2 = type[input_type2]\n",
    "pkmn1_weak = set(Weaknesses(type1, type2))\n",
    "pkmn1_res, pkmn1_im = Resistances(type1, type2)\n",
    "pkmn1_res = set(pkmn1_res)\n",
    "pkmn1_im = set(pkmn1_im)\n",
    "\n",
    "# pkmn2_weak = set(Weaknesses(type['Grass'], type['Steel']))\n",
    "# pkmn2_res, pkmn2_im = Resistances(type['Grass'], type['Steel'])\n",
    "# pkmn2_res = set(pkmn2_res)\n",
    "# pkmn2_im = set(pkmn2_im)\n"
   ],
   "metadata": {
    "collapsed": false,
    "pycharm": {
     "name": "#%%\n"
    }
   }
  },
  {
   "cell_type": "markdown",
   "source": [],
   "metadata": {
    "collapsed": false
   }
  },
  {
   "cell_type": "code",
   "execution_count": 63,
   "outputs": [],
   "source": [
    "def Coverage(pkmn1_weak,\n",
    "             pkmn1_res,\n",
    "             pkmn1_im,\n",
    "             pkmn2_weak,\n",
    "             pkmn2_res,\n",
    "             pkmn2_im):\n",
    "\n",
    "    coverage_holes_pkmn1 = []\n",
    "    coverage_holes_pkmn2 = []\n",
    "\n",
    "    for i in pkmn1_weak:\n",
    "        coverage_holes_pkmn1.append(i)\n",
    "\n",
    "    for i in pkmn1_weak:\n",
    "        if i in pkmn2_res or i in pkmn2_im:\n",
    "            coverage_holes_pkmn1.remove(i)\n",
    "\n",
    "    for i in pkmn2_weak:\n",
    "        coverage_holes_pkmn2.append(i)\n",
    "\n",
    "    for i in pkmn2_weak:\n",
    "        if i in pkmn1_res or i in pkmn1_im:\n",
    "            coverage_holes_pkmn2.remove(i)\n",
    "    return coverage_holes_pkmn1 + coverage_holes_pkmn2"
   ],
   "metadata": {
    "collapsed": false,
    "pycharm": {
     "name": "#%%\n"
    }
   }
  },
  {
   "cell_type": "code",
   "execution_count": 64,
   "outputs": [],
   "source": [
    "def Max_Coverage(pkmn1_weak, pkmn1_res, pkmn1_im):\n",
    "    for i in type:\n",
    "        for j in type:\n",
    "            pkmn2_weak = set(Weaknesses(type[i], type[j]))\n",
    "            pkmn2_res, pkmn2_im = Resistances(type[i], type[j])\n",
    "            pkmn2_res = set(pkmn2_res)\n",
    "            pkmn2_im = set(pkmn2_im)\n",
    "            cov = Coverage(pkmn1_weak, pkmn1_res, pkmn1_im, pkmn2_weak, pkmn2_res, pkmn2_im)\n",
    "            if len(cov) < 2:\n",
    "                print('Type:\\t', type[i].NAME, '/', type[j].NAME)\n",
    "                print('Holes in coverage:\\t', cov, '\\n')"
   ],
   "metadata": {
    "collapsed": false,
    "pycharm": {
     "name": "#%%\n"
    }
   }
  },
  {
   "cell_type": "code",
   "execution_count": 65,
   "outputs": [
    {
     "name": "stdout",
     "output_type": "stream",
     "text": [
      "Type:\t Dark / Grass\n",
      "Holes in coverage:\t ['Flying'] \n",
      "\n",
      "Type:\t Flying / Ground\n",
      "Holes in coverage:\t ['Psychic'] \n",
      "\n",
      "Type:\t Grass / Dark\n",
      "Holes in coverage:\t ['Flying'] \n",
      "\n",
      "Type:\t Grass / Steel\n",
      "Holes in coverage:\t ['Ground'] \n",
      "\n",
      "Type:\t Ground / Flying\n",
      "Holes in coverage:\t ['Psychic'] \n",
      "\n",
      "Type:\t Steel / Grass\n",
      "Holes in coverage:\t ['Ground'] \n",
      "\n"
     ]
    }
   ],
   "source": [
    "Max_Coverage(pkmn1_weak, pkmn1_res, pkmn1_im)"
   ],
   "metadata": {
    "collapsed": false,
    "pycharm": {
     "name": "#%%\n"
    }
   }
  },
  {
   "cell_type": "code",
   "execution_count": 55,
   "outputs": [],
   "source": [
    "test = input('Enter type:')"
   ],
   "metadata": {
    "collapsed": false,
    "pycharm": {
     "name": "#%%\n"
    }
   }
  },
  {
   "cell_type": "code",
   "execution_count": 61,
   "outputs": [
    {
     "data": {
      "text/plain": "<Types.Water_Type at 0x7feb29c2bfd0>"
     },
     "execution_count": 61,
     "metadata": {},
     "output_type": "execute_result"
    }
   ],
   "source": [
    "type[test]"
   ],
   "metadata": {
    "collapsed": false,
    "pycharm": {
     "name": "#%%\n"
    }
   }
  },
  {
   "cell_type": "code",
   "execution_count": null,
   "outputs": [],
   "source": [],
   "metadata": {
    "collapsed": false,
    "pycharm": {
     "name": "#%%\n"
    }
   }
  }
 ],
 "metadata": {
  "kernelspec": {
   "display_name": "Python 3",
   "language": "python",
   "name": "python3"
  },
  "language_info": {
   "codemirror_mode": {
    "name": "ipython",
    "version": 2
   },
   "file_extension": ".py",
   "mimetype": "text/x-python",
   "name": "python",
   "nbconvert_exporter": "python",
   "pygments_lexer": "ipython2",
   "version": "2.7.6"
  }
 },
 "nbformat": 4,
 "nbformat_minor": 0
}